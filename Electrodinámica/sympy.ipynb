{
 "cells": [
  {
   "cell_type": "code",
   "execution_count": 1,
   "id": "2dedc077-30a3-4505-824e-acaeb57952ca",
   "metadata": {
    "tags": []
   },
   "outputs": [],
   "source": [
    "import numpy as np\n",
    "import matplotlib.pyplot as plt\n",
    "import sympy as sp"
   ]
  },
  {
   "cell_type": "code",
   "execution_count": 2,
   "id": "f2fb3691-eac8-408e-bdd3-a181b54cf12c",
   "metadata": {
    "tags": []
   },
   "outputs": [],
   "source": [
    "x,y,a,z,r,the,phi = sp.symbols(\"x,y,a,z,r,\\\\theta,\\\\varphi\") #String del simbolo"
   ]
  },
  {
   "cell_type": "code",
   "execution_count": 3,
   "id": "5a1083f9-1994-457e-9dcd-5c6b5040900b",
   "metadata": {
    "tags": []
   },
   "outputs": [
    {
     "data": {
      "text/latex": [
       "$\\displaystyle a^{7} + 7 a^{6} x + 21 a^{5} x^{2} + 35 a^{4} x^{3} + 35 a^{3} x^{4} + 21 a^{2} x^{5} + 7 a x^{6} + x^{7}$"
      ],
      "text/plain": [
       "a**7 + 7*a**6*x + 21*a**5*x**2 + 35*a**4*x**3 + 35*a**3*x**4 + 21*a**2*x**5 + 7*a*x**6 + x**7"
      ]
     },
     "execution_count": 3,
     "metadata": {},
     "output_type": "execute_result"
    }
   ],
   "source": [
    "w = (a+x)**7\n",
    "u=sp.expand(w)\n",
    "u"
   ]
  },
  {
   "cell_type": "code",
   "execution_count": 4,
   "id": "0f33a455-cfd3-47d9-a0af-4dee4c63db66",
   "metadata": {
    "tags": []
   },
   "outputs": [
    {
     "data": {
      "text/latex": [
       "$\\displaystyle \\left(a + x\\right)^{7}$"
      ],
      "text/plain": [
       "(a + x)**7"
      ]
     },
     "execution_count": 4,
     "metadata": {},
     "output_type": "execute_result"
    }
   ],
   "source": [
    "sp.factor(u)"
   ]
  },
  {
   "cell_type": "code",
   "execution_count": 5,
   "id": "cb217720-b886-46a9-950a-ee2b1f020631",
   "metadata": {
    "tags": []
   },
   "outputs": [],
   "source": [
    "ñ = sp.sin(x)"
   ]
  },
  {
   "cell_type": "code",
   "execution_count": 6,
   "id": "1acd617c-f0aa-4604-92d0-899ab1d76ce3",
   "metadata": {
    "tags": []
   },
   "outputs": [
    {
     "data": {
      "text/latex": [
       "$\\displaystyle x - \\frac{x^{3}}{6} + O\\left(x^{4}\\right)$"
      ],
      "text/plain": [
       "x - x**3/6 + O(x**4)"
      ]
     },
     "execution_count": 6,
     "metadata": {},
     "output_type": "execute_result"
    }
   ],
   "source": [
    "sp.series(ñ,x,0,4) # Serie de taylor de y respecto x para el orden 4"
   ]
  },
  {
   "cell_type": "code",
   "execution_count": 11,
   "id": "ff7c1ba8-dd76-4b2f-90f7-6f2a1c6a6cb9",
   "metadata": {
    "tags": []
   },
   "outputs": [
    {
     "data": {
      "text/latex": [
       "$\\displaystyle x^{2} + y^{2} + z^{2}$"
      ],
      "text/plain": [
       "x**2 + y**2 + z**2"
      ]
     },
     "execution_count": 11,
     "metadata": {},
     "output_type": "execute_result"
    }
   ],
   "source": [
    "w = x**2+y**2+z**2\n",
    "w"
   ]
  },
  {
   "cell_type": "code",
   "execution_count": 15,
   "id": "58812ba0-c642-42c6-8248-67ba1565c233",
   "metadata": {
    "tags": []
   },
   "outputs": [],
   "source": [
    "ww = w.subs(x, r*sp.sin(the)*sp.cos(phi)).subs(y, r*sp.sin(the)*sp.sin(phi)).subs(z, r*sp.cos(the))"
   ]
  },
  {
   "cell_type": "code",
   "execution_count": 16,
   "id": "d9f72a80-62df-446d-b6a1-64a6a373ee60",
   "metadata": {
    "tags": []
   },
   "outputs": [
    {
     "data": {
      "text/latex": [
       "$\\displaystyle r^{2}$"
      ],
      "text/plain": [
       "r**2"
      ]
     },
     "execution_count": 16,
     "metadata": {},
     "output_type": "execute_result"
    }
   ],
   "source": [
    "sp.simplify(ww)"
   ]
  },
  {
   "cell_type": "code",
   "execution_count": null,
   "id": "c623a42c-f741-485c-813b-36382fe3ebae",
   "metadata": {},
   "outputs": [],
   "source": []
  }
 ],
 "metadata": {
  "kernelspec": {
   "display_name": "Python 3 (ipykernel)",
   "language": "python",
   "name": "python3"
  },
  "language_info": {
   "codemirror_mode": {
    "name": "ipython",
    "version": 3
   },
   "file_extension": ".py",
   "mimetype": "text/x-python",
   "name": "python",
   "nbconvert_exporter": "python",
   "pygments_lexer": "ipython3",
   "version": "3.11.4"
  }
 },
 "nbformat": 4,
 "nbformat_minor": 5
}
